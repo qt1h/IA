{
 "cells": [
  {
   "cell_type": "markdown",
   "metadata": {
    "id": "JIuzZH7gj7Yu"
   },
   "source": [
    "\n",
    "\n",
    "> Import libraries to use\n",
    "\n"
   ]
  },
  {
   "cell_type": "code",
   "execution_count": 1,
   "metadata": {
    "id": "1n-L9pacjmBA"
   },
   "outputs": [],
   "source": [
    "import numpy as np"
   ]
  },
  {
   "cell_type": "markdown",
   "metadata": {
    "id": "i38qZPSHmDVs"
   },
   "source": [
    ">  # Introduction to numpy (Skip if you already are familiar)"
   ]
  },
  {
   "cell_type": "markdown",
   "metadata": {
    "id": "-wFkLk1kmeIn"
   },
   "source": [
    ">> Creating a 1D array"
   ]
  },
  {
   "cell_type": "code",
   "execution_count": 2,
   "metadata": {
    "colab": {
     "base_uri": "https://localhost:8080/"
    },
    "id": "E-o1XD0Qmgxk",
    "outputId": "d5e1bb74-42be-449c-e57a-8e389c3368ef"
   },
   "outputs": [
    {
     "name": "stdout",
     "output_type": "stream",
     "text": [
      "[1 2 3 4]\n"
     ]
    }
   ],
   "source": [
    "a = np.array([1,2,3,4])\n",
    "print(a)"
   ]
  },
  {
   "cell_type": "markdown",
   "metadata": {
    "id": "DWh4Q90Gmh32"
   },
   "source": [
    ">> Creating a 2D array\n"
   ]
  },
  {
   "cell_type": "code",
   "execution_count": 3,
   "metadata": {
    "colab": {
     "base_uri": "https://localhost:8080/"
    },
    "id": "mOS0jF1AmjTX",
    "outputId": "98649d5d-6738-499b-e907-bbcf7fe7a48f"
   },
   "outputs": [
    {
     "name": "stdout",
     "output_type": "stream",
     "text": [
      "[[1 2]\n",
      " [3 4]]\n"
     ]
    }
   ],
   "source": [
    "a = np.array([[1,2],[3,4]])\n",
    "print(a)"
   ]
  },
  {
   "cell_type": "markdown",
   "metadata": {
    "id": "4Z_7BfvcmoPA"
   },
   "source": [
    ">> Creating an array full of zeros\n"
   ]
  },
  {
   "cell_type": "code",
   "execution_count": 4,
   "metadata": {
    "colab": {
     "base_uri": "https://localhost:8080/"
    },
    "id": "KdGvmJ7gmFrF",
    "outputId": "96c1389b-8ff8-492b-9575-df4a3c38c711"
   },
   "outputs": [
    {
     "name": "stdout",
     "output_type": "stream",
     "text": [
      "[0. 0. 0. 0. 0. 0. 0. 0. 0. 0.]\n",
      "[[0. 0.]\n",
      " [0. 0.]\n",
      " [0. 0.]\n",
      " [0. 0.]\n",
      " [0. 0.]]\n"
     ]
    }
   ],
   "source": [
    "a = np.zeros(shape=(10))\n",
    "print(a)\n",
    "a = np.zeros(shape=(5,2))\n",
    "print(a)"
   ]
  },
  {
   "cell_type": "markdown",
   "metadata": {
    "id": "kV2byWmWmr9g"
   },
   "source": [
    ">> Infinity in numpy"
   ]
  },
  {
   "cell_type": "code",
   "execution_count": 5,
   "metadata": {
    "colab": {
     "base_uri": "https://localhost:8080/"
    },
    "id": "9SMPoECVmygc",
    "outputId": "5ceafdaf-3f4d-4c98-e084-5b0409b5f127"
   },
   "outputs": [
    {
     "name": "stdout",
     "output_type": "stream",
     "text": [
      "inf\n"
     ]
    }
   ],
   "source": [
    "print(np.inf)"
   ]
  },
  {
   "cell_type": "markdown",
   "metadata": {
    "id": "FCi8vs49mz44"
   },
   "source": [
    ">> Max and Argmax"
   ]
  },
  {
   "cell_type": "code",
   "execution_count": 6,
   "metadata": {
    "colab": {
     "base_uri": "https://localhost:8080/"
    },
    "id": "Ailb-V76nSqc",
    "outputId": "69c91264-9121-434c-8a96-a258748ad558"
   },
   "outputs": [
    {
     "name": "stdout",
     "output_type": "stream",
     "text": [
      "4\n",
      "2\n"
     ]
    }
   ],
   "source": [
    "a = np.array([2,1,4,3])\n",
    "print(np.max(a))\n",
    "print(np.argmax(a))"
   ]
  },
  {
   "cell_type": "markdown",
   "metadata": {
    "id": "6XpkQzTfnXMU"
   },
   "source": [
    ">> From list to Numpy"
   ]
  },
  {
   "cell_type": "code",
   "execution_count": 7,
   "metadata": {
    "colab": {
     "base_uri": "https://localhost:8080/"
    },
    "id": "3wdFdBaOncQI",
    "outputId": "0a5aa25a-5bee-4443-adaf-87bbcf0c1216"
   },
   "outputs": [
    {
     "name": "stdout",
     "output_type": "stream",
     "text": [
      "[1, 2, 3, 4]\n",
      "[1 2 3 4]\n"
     ]
    }
   ],
   "source": [
    "l = [1,2,3,4]\n",
    "print(l)\n",
    "print(np.asarray(l))"
   ]
  },
  {
   "cell_type": "markdown",
   "metadata": {
    "id": "PgNawY2LngKt"
   },
   "source": [
    ">> Random in numpy"
   ]
  },
  {
   "cell_type": "code",
   "execution_count": 8,
   "metadata": {
    "colab": {
     "base_uri": "https://localhost:8080/"
    },
    "id": "tyopXlWsnjK1",
    "outputId": "80981877-04e6-4f31-ff13-933c7a2103a5"
   },
   "outputs": [
    {
     "name": "stdout",
     "output_type": "stream",
     "text": [
      "[[5 8]\n",
      " [8 5]\n",
      " [9 7]\n",
      " [1 2]\n",
      " [7 4]]\n"
     ]
    }
   ],
   "source": [
    "# Array of Random integers ranging from 1 to 10 (with any size you want)\n",
    "a = np.random.randint(low=1, high=10, size=(5,2))\n",
    "print(a)\n",
    "\n",
    "# Array of random elements of a list with any size you want\n",
    "a = np.random.choice([0,1,2], size=(2,))"
   ]
  },
  {
   "cell_type": "markdown",
   "metadata": {
    "id": "abjqoNDSoAD6"
   },
   "source": [
    ">> Shapes in numpy"
   ]
  },
  {
   "cell_type": "code",
   "execution_count": 10,
   "metadata": {
    "colab": {
     "base_uri": "https://localhost:8080/"
    },
    "id": "vN2gUoZEoCbE",
    "outputId": "bb7cb91f-7983-4bc9-d9a2-60f27017986a"
   },
   "outputs": [
    {
     "name": "stdout",
     "output_type": "stream",
     "text": [
      "(4, 2)\n",
      "[[2 3]\n",
      " [4 1]\n",
      " [3 4]\n",
      " [2 3]]\n",
      "(8, 1)\n",
      "[[2]\n",
      " [3]\n",
      " [4]\n",
      " [1]\n",
      " [3]\n",
      " [4]\n",
      " [2]\n",
      " [3]]\n"
     ]
    }
   ],
   "source": [
    "a = np.random.randint(low=1, high=5, size=(4,2))\n",
    "print(a.shape)\n",
    "print(a)\n",
    "\n",
    "# Reshape a to a vector of shape = (8,1)\n",
    "a = a.reshape((8,1))\n",
    "print(a.shape)\n",
    "print(a)"
   ]
  },
  {
   "cell_type": "markdown",
   "metadata": {
    "id": "ekYrPhAGkAfM"
   },
   "source": [
    "# Pre-defined utilities"
   ]
  },
  {
   "cell_type": "code",
   "execution_count": 11,
   "metadata": {
    "id": "3kXEezQ_jnoP"
   },
   "outputs": [],
   "source": [
    "\n",
    "int_to_char = {\n",
    "    0 : 'u',\n",
    "    1 : 'r',\n",
    "    2 : 'd',\n",
    "    3 : 'l'\n",
    "}\n",
    "\n",
    "policy_one_step_look_ahead = {\n",
    "    0 : [-1,0],\n",
    "    1 : [0,1],\n",
    "    2 : [1,0],\n",
    "    3 : [0,-1]\n",
    "}\n",
    "\n",
    "def policy_int_to_char(pi,n):\n",
    "\n",
    "    pi_char = ['']\n",
    "\n",
    "    for i in range(n):\n",
    "        for j in range(n):\n",
    "\n",
    "            if i == 0 and j == 0 or i == n-1 and j == n-1:\n",
    "\n",
    "                continue\n",
    "\n",
    "            pi_char.append(int_to_char[pi[i,j]])\n",
    "\n",
    "    pi_char.append('')\n",
    "\n",
    "    return np.asarray(pi_char).reshape(n,n)"
   ]
  },
  {
   "cell_type": "markdown",
   "metadata": {
    "id": "3zlRobQekELk"
   },
   "source": [
    "# 1- Policy evaluation"
   ]
  },
  {
   "cell_type": "code",
   "execution_count": null,
   "metadata": {
    "id": "N7_2lpTAkHAJ"
   },
   "outputs": [],
   "source": [
    "def policy_evaluation(n,pi,v,Gamma,threshhold):\n",
    "  \"\"\"\n",
    "    This function should return the value function that follows the policy pi.\n",
    "    Use the stopping criteria given in the problem statement.\n",
    "  \"\"\"\n",
    "  while True:\n",
    "    delta=0\n",
    "    for i in range(n):\n",
    "      for j in range(n):\n",
    "        \n",
    "        if(i==0 and j==0) or (i==n-1 and j==n-1): #skip eval for terminal states (might be useless)\n",
    "          continue\n",
    "        \n",
    "        v_prev=v[i,j]\n",
    "        action=pi[i,j]\n",
    "        di,dj=policy_one_step_look_ahead[action]\n",
    "        next_i,next_j=i+di,j+dj\n",
    "        \n",
    "        if 0<=next_i<n and 0<=next_j<n:\n",
    "          reward=10 if (next_i==n-1 and next_j==n-1) else -1 # Reward change possible\n",
    "          v[i,j]=reward+Gamma*v[next_i,next_j]\n",
    "        \n",
    "        delta=max(delta,abs(v_prev-v[i,j]))\n",
    "        \n",
    "    if delta<threshhold:\n",
    "      break\n",
    "  return v"
   ]
  },
  {
   "cell_type": "markdown",
   "metadata": {
    "id": "id0Re9bnkWRP"
   },
   "source": [
    "# 2- Policy improvement"
   ]
  },
  {
   "cell_type": "code",
   "execution_count": null,
   "metadata": {
    "id": "eC8zswV7kZPF"
   },
   "outputs": [],
   "source": [
    "def policy_improvement(n,pi,v,Gamma):\n",
    "  \"\"\"\n",
    "    This function should return the new policy by acting in a greedy manner.\n",
    "    The function should return as well a flag indicating if the output policy\n",
    "    is the same as the input policy.\n",
    "\n",
    "    Example:\n",
    "      return new_pi, True if new_pi = pi for all states\n",
    "      else return new_pi, False\n",
    "  \"\"\"\n",
    "  pi_stable=True\n",
    "  new_pi=np.copy(pi)\n",
    "  \n",
    "  for i in range(n):\n",
    "    for j in range(n):\n",
    "      if(i==0 and j==0) or (i==n-1 and j==n-1): #(might be useless)\n",
    "          continue\n",
    "        \n",
    "      prev_action=pi[i,j]\n",
    "      action_values=[]\n",
    "      \n",
    "      for action in range(4):\n",
    "        di, dj=policy_one_step_look_ahead[action]\n",
    "        next_i,next_j=i+di,j+dj\n",
    "        \n",
    "        if 0<=next_i<n and 0<=next_j<n:\n",
    "          reward=10 if (next_i==n-1 and next_j==n-1) else -1 # Reward change possible\n",
    "          action_value=reward+Gamma*v[next_i,next_j]\n",
    "          action_values.append(action_value)\n",
    "          \n",
    "        else:\n",
    "          action_values.append(-1+Gamma*v[i,j])\n",
    "          \n",
    "      best_action=np.argmax(action_values)\n",
    "      new_pi[i,j]=best_action\n",
    "      \n",
    "      if best_action!=prev_action:\n",
    "        pi_stable=False\n",
    "        \n",
    "  return new_pi,pi_stable"
   ]
  },
  {
   "cell_type": "markdown",
   "metadata": {
    "id": "1rJLFmZYk0I1"
   },
   "source": [
    "# 3- Policy Initialization"
   ]
  },
  {
   "cell_type": "code",
   "execution_count": 22,
   "metadata": {
    "id": "xpuOHJeIk2K_"
   },
   "outputs": [],
   "source": [
    "def policy_initialization(n):\n",
    "  \"\"\"\n",
    "    This function should return the initial random policy for all states.\n",
    "  \"\"\"\n",
    "  pi=np.random.choice([0, 1, 2, 3],size=(n,n))\n",
    "  pi[0,0]=-1\n",
    "  pi[n-1,n-1]=-1\n",
    "  return pi"
   ]
  },
  {
   "cell_type": "markdown",
   "metadata": {
    "id": "rfeVN5fQlBt8"
   },
   "source": [
    "# 4- Policy Iteration algorithm"
   ]
  },
  {
   "cell_type": "code",
   "execution_count": 15,
   "metadata": {
    "id": "g7hnjz0PlFD4"
   },
   "outputs": [],
   "source": [
    "def policy_iteration(n,Gamma,threshhold):\n",
    "\n",
    "    pi = policy_initialization(n=n)\n",
    "\n",
    "    v = np.zeros(shape=(n,n))\n",
    "\n",
    "    while True:\n",
    "\n",
    "        v = policy_evaluation(n=n,v=v,pi=pi,threshhold=threshhold,Gamma=Gamma)\n",
    "\n",
    "        pi , pi_stable = policy_improvement(n=n,pi=pi,v=v,Gamma=Gamma)\n",
    "\n",
    "        if pi_stable:\n",
    "\n",
    "            break\n",
    "\n",
    "    return pi , v"
   ]
  },
  {
   "cell_type": "markdown",
   "metadata": {
    "id": "8FvleqV5onq9"
   },
   "source": [
    "# Main Code to Test"
   ]
  },
  {
   "cell_type": "code",
   "execution_count": 23,
   "metadata": {
    "colab": {
     "base_uri": "https://localhost:8080/"
    },
    "id": "hntGpzW-jZk3",
    "outputId": "7cef0988-b63c-46cd-d047-0c1e33c72e39"
   },
   "outputs": [
    {
     "name": "stdout",
     "output_type": "stream",
     "text": [
      "\n",
      "Gamma =  0.8\n",
      "\n",
      "[['' 'r' 'r' 'd']\n",
      " ['r' 'r' 'r' 'd']\n",
      " ['r' 'r' 'r' 'd']\n",
      " ['r' 'r' 'r' '']]\n",
      "\n",
      "\n",
      "[[ 0.     1.144  2.68   4.6  ]\n",
      " [ 1.144  2.68   4.6    7.   ]\n",
      " [ 2.68   4.6    7.    10.   ]\n",
      " [ 4.6    7.    10.     0.   ]]\n",
      "\n",
      "Gamma =  0.9\n",
      "\n",
      "[['' 'r' 'r' 'd']\n",
      " ['r' 'r' 'r' 'd']\n",
      " ['r' 'r' 'r' 'd']\n",
      " ['r' 'r' 'r' '']]\n",
      "\n",
      "\n",
      "[[ 0.     3.122  4.58   6.2  ]\n",
      " [ 3.122  4.58   6.2    8.   ]\n",
      " [ 4.58   6.2    8.    10.   ]\n",
      " [ 6.2    8.    10.     0.   ]]\n",
      "\n",
      "Gamma =  1\n",
      "\n",
      "[['' 'r' 'r' 'd']\n",
      " ['r' 'r' 'r' 'd']\n",
      " ['r' 'r' 'r' 'd']\n",
      " ['r' 'r' 'r' '']]\n",
      "\n",
      "\n",
      "[[ 0.  6.  7.  8.]\n",
      " [ 6.  7.  8.  9.]\n",
      " [ 7.  8.  9. 10.]\n",
      " [ 8.  9. 10.  0.]]\n"
     ]
    }
   ],
   "source": [
    "n = 4\n",
    "\n",
    "Gamma = [0.8,0.9,1]\n",
    "\n",
    "threshhold = 1e-4\n",
    "\n",
    "for _gamma in Gamma:\n",
    "\n",
    "    pi , v = policy_iteration(n=n,Gamma=_gamma,threshhold=threshhold)\n",
    "\n",
    "    pi_char = policy_int_to_char(n=n,pi=pi)\n",
    "\n",
    "    print()\n",
    "    print(\"Gamma = \",_gamma)\n",
    "\n",
    "    print()\n",
    "\n",
    "    print(pi_char)\n",
    "\n",
    "    print()\n",
    "    print()\n",
    "\n",
    "    print(v)\n"
   ]
  }
 ],
 "metadata": {
  "colab": {
   "collapsed_sections": [
    "i38qZPSHmDVs",
    "ekYrPhAGkAfM",
    "3zlRobQekELk",
    "id0Re9bnkWRP",
    "1rJLFmZYk0I1",
    "8FvleqV5onq9"
   ],
   "provenance": []
  },
  "kernelspec": {
   "display_name": "py310env",
   "language": "python",
   "name": "python3"
  },
  "language_info": {
   "codemirror_mode": {
    "name": "ipython",
    "version": 3
   },
   "file_extension": ".py",
   "mimetype": "text/x-python",
   "name": "python",
   "nbconvert_exporter": "python",
   "pygments_lexer": "ipython3",
   "version": "3.10.14"
  }
 },
 "nbformat": 4,
 "nbformat_minor": 0
}
